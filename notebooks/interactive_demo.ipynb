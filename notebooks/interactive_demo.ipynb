{
 "cells": [
  {
   "cell_type": "markdown",
   "id": "cc1237df-4ca1-4b4a-bfb7-0b4f25686b70",
   "metadata": {},
   "source": [
    "# Interact with Jupyter in `serc` just like a local machine\n",
    "\n",
    "In this demo, we'll show you how Jupyter Lab can be used in an Open On Demand session within `serc` similarly to how you might use the Jupyter ecosystem on your local machine.\n",
    "\n",
    "We can import Python libraries:"
   ]
  },
  {
   "cell_type": "code",
   "execution_count": 1,
   "id": "8f392c25-3436-47e4-9c0e-cbe1c75540c1",
   "metadata": {},
   "outputs": [],
   "source": [
    "import numpy as np\n",
    "import pandas as pd\n",
    "import matplotlib.pyplot as plt\n",
    "import seaborn as sns"
   ]
  },
  {
   "cell_type": "markdown",
   "id": "bec4356e-aef7-4717-8e21-7313090a61b1",
   "metadata": {},
   "source": [
    "Now we'll simulate a year of data from a fictional weather monitoring station."
   ]
  },
  {
   "cell_type": "code",
   "execution_count": 2,
   "id": "23d15deb-0983-46a3-9a86-1e532a45a2ec",
   "metadata": {},
   "outputs": [],
   "source": [
    "np.random.seed(42)\n",
    "n = 365"
   ]
  },
  {
   "cell_type": "code",
   "execution_count": 3,
   "id": "8835abfa-b4bb-4003-a497-5c67706fd55a",
   "metadata": {},
   "outputs": [],
   "source": [
    "# Simulate regions\n",
    "regions = np.random.choice(['Coastal', 'Inland', 'Mountain'], size=n)\n",
    "\n",
    "# Temperature (°C)\n",
    "temperature = np.random.normal(loc=15, scale=5, size=n)\n",
    "temperature += (regions == 'Coastal') * 2\n",
    "temperature += (regions == 'Mountain') * -5\n",
    "\n",
    "# Precipitation (mm)\n",
    "precipitation = np.random.exponential(scale=3, size=n)\n",
    "precipitation += (regions == 'Mountain') * 1.5\n",
    "\n",
    "# Wind Speed (km/h)\n",
    "wind_speed = np.random.normal(loc=10, scale=2, size=n)\n",
    "wind_speed += (regions == 'Coastal') * 3"
   ]
  },
  {
   "cell_type": "markdown",
   "id": "a32fe8aa-ea65-4fa0-a814-bc90826edb64",
   "metadata": {},
   "source": [
    "We'll put our data in a dataframe."
   ]
  },
  {
   "cell_type": "code",
   "execution_count": 4,
   "id": "20a3a552-03a4-4ca5-adca-72f49883a70b",
   "metadata": {},
   "outputs": [],
   "source": [
    "df = pd.DataFrame({\n",
    "    'Region': regions,\n",
    "    'Temperature_C': temperature,\n",
    "    'Precipitation_mm': precipitation,\n",
    "    'WindSpeed_kmh': wind_speed,\n",
    "    'DayOfYear': np.arange(1, n + 1)\n",
    "})"
   ]
  },
  {
   "cell_type": "markdown",
   "id": "abef8475-2671-4ec6-81c2-54ba6d54385d",
   "metadata": {},
   "source": [
    "Which we can visualize in the notebook:"
   ]
  },
  {
   "cell_type": "code",
   "execution_count": 5,
   "id": "875d3935-d629-4da2-acb1-1f3f81844824",
   "metadata": {},
   "outputs": [
    {
     "data": {
      "text/html": [
       "<div>\n",
       "<style scoped>\n",
       "    .dataframe tbody tr th:only-of-type {\n",
       "        vertical-align: middle;\n",
       "    }\n",
       "\n",
       "    .dataframe tbody tr th {\n",
       "        vertical-align: top;\n",
       "    }\n",
       "\n",
       "    .dataframe thead th {\n",
       "        text-align: right;\n",
       "    }\n",
       "</style>\n",
       "<table border=\"1\" class=\"dataframe\">\n",
       "  <thead>\n",
       "    <tr style=\"text-align: right;\">\n",
       "      <th></th>\n",
       "      <th>Region</th>\n",
       "      <th>Temperature_C</th>\n",
       "      <th>Precipitation_mm</th>\n",
       "      <th>WindSpeed_kmh</th>\n",
       "      <th>DayOfYear</th>\n",
       "    </tr>\n",
       "  </thead>\n",
       "  <tbody>\n",
       "    <tr>\n",
       "      <th>0</th>\n",
       "      <td>Mountain</td>\n",
       "      <td>5.580713</td>\n",
       "      <td>2.833384</td>\n",
       "      <td>14.150802</td>\n",
       "      <td>1</td>\n",
       "    </tr>\n",
       "    <tr>\n",
       "      <th>1</th>\n",
       "      <td>Coastal</td>\n",
       "      <td>17.768626</td>\n",
       "      <td>6.291608</td>\n",
       "      <td>12.008062</td>\n",
       "      <td>2</td>\n",
       "    </tr>\n",
       "    <tr>\n",
       "      <th>2</th>\n",
       "      <td>Mountain</td>\n",
       "      <td>10.291044</td>\n",
       "      <td>2.994938</td>\n",
       "      <td>9.663770</td>\n",
       "      <td>3</td>\n",
       "    </tr>\n",
       "    <tr>\n",
       "      <th>3</th>\n",
       "      <td>Mountain</td>\n",
       "      <td>4.285149</td>\n",
       "      <td>6.588248</td>\n",
       "      <td>9.253201</td>\n",
       "      <td>4</td>\n",
       "    </tr>\n",
       "    <tr>\n",
       "      <th>4</th>\n",
       "      <td>Coastal</td>\n",
       "      <td>18.788937</td>\n",
       "      <td>1.734825</td>\n",
       "      <td>10.652860</td>\n",
       "      <td>5</td>\n",
       "    </tr>\n",
       "  </tbody>\n",
       "</table>\n",
       "</div>"
      ],
      "text/plain": [
       "     Region  Temperature_C  Precipitation_mm  WindSpeed_kmh  DayOfYear\n",
       "0  Mountain       5.580713          2.833384      14.150802          1\n",
       "1   Coastal      17.768626          6.291608      12.008062          2\n",
       "2  Mountain      10.291044          2.994938       9.663770          3\n",
       "3  Mountain       4.285149          6.588248       9.253201          4\n",
       "4   Coastal      18.788937          1.734825      10.652860          5"
      ]
     },
     "execution_count": 5,
     "metadata": {},
     "output_type": "execute_result"
    }
   ],
   "source": [
    "df.head(5)"
   ]
  },
  {
   "cell_type": "markdown",
   "id": "73cdf569-b57e-4bd5-a280-62178e12eff9",
   "metadata": {},
   "source": [
    "`pandas` also allows us to look at the summary stats before we save anything."
   ]
  },
  {
   "cell_type": "code",
   "execution_count": 6,
   "id": "da3faa68-122b-4706-914d-281b89903027",
   "metadata": {},
   "outputs": [
    {
     "name": "stdout",
     "output_type": "stream",
     "text": [
      "Summary statistics:\n",
      "\n",
      "       Temperature_C  Precipitation_mm  WindSpeed_kmh   DayOfYear\n",
      "count     365.000000        365.000000     365.000000  365.000000\n",
      "mean       13.915750          3.484146      11.112359  183.000000\n",
      "std         5.718611          3.006421       2.319492  105.510663\n",
      "min        -1.206337          0.013928       3.038382    1.000000\n",
      "25%        10.086001          1.343430       9.586866   92.000000\n",
      "50%        14.053176          2.714458      11.061601  183.000000\n",
      "75%        17.852993          4.808630      12.647750  274.000000\n",
      "max        29.263657         18.804245      18.930021  365.000000\n"
     ]
    }
   ],
   "source": [
    "summary = df.describe()\n",
    "print(\"Summary statistics:\\n\")\n",
    "print(summary)"
   ]
  },
  {
   "cell_type": "markdown",
   "id": "9ab0aa4e-0a43-494e-8f17-a5eab07535aa",
   "metadata": {},
   "source": [
    "Or to probe a specific stat, like mean temperature by region."
   ]
  },
  {
   "cell_type": "code",
   "execution_count": 7,
   "id": "d4238f57-ed7c-44f0-8d76-ef5a847968e5",
   "metadata": {},
   "outputs": [
    {
     "name": "stdout",
     "output_type": "stream",
     "text": [
      "\n",
      "Mean Temperature by Region:\n",
      "Region\n",
      "Coastal     16.598448\n",
      "Inland      15.305114\n",
      "Mountain    10.028910\n",
      "Name: Temperature_C, dtype: float64\n"
     ]
    }
   ],
   "source": [
    "mean_temp_by_region = df.groupby('Region')['Temperature_C'].mean()\n",
    "print(\"\\nMean Temperature by Region:\")\n",
    "print(mean_temp_by_region)"
   ]
  },
  {
   "cell_type": "markdown",
   "id": "a7a15e73-e9ab-4649-9a1b-09e3fe2f2df5",
   "metadata": {},
   "source": [
    "We can take a closer look at this distribution by visualizing the temperature distribution by region."
   ]
  },
  {
   "cell_type": "code",
   "execution_count": 9,
   "id": "4eb84a20-f60f-43db-a704-870ce9918d3c",
   "metadata": {},
   "outputs": [
    {
     "data": {
      "image/png": "[encoded data removed]",
      "text/plain": [
       "<Figure size 800x600 with 1 Axes>"
      ]
     },
     "metadata": {},
     "output_type": "display_data"
    }
   ],
   "source": [
    "sns.set(style=\"whitegrid\")\n",
    "\n",
    "plt.figure(figsize=(8, 6))\n",
    "sns.boxplot(x='Region', y='Temperature_C', data=df, \n",
    "            hue='Region', palette='coolwarm', legend=False)\n",
    "plt.title('Temperature Distribution by Region')\n",
    "plt.ylabel('Temperature (°C)')\n",
    "plt.tight_layout()"
   ]
  },
  {
   "cell_type": "markdown",
   "id": "8c8eebb3-2a80-4f29-83d3-7a88ff31ad7d",
   "metadata": {},
   "source": [
    "Finally we can save the temperature distribution figure and a csv of the summary statistics directly to Oak from our interactive session."
   ]
  },
  {
   "cell_type": "code",
   "execution_count": 13,
   "id": "18987d39-1fca-4bfa-a233-621e06b0a06b",
   "metadata": {},
   "outputs": [
    {
     "data": {
      "text/plain": [
       "<Figure size 640x480 with 0 Axes>"
      ]
     },
     "metadata": {},
     "output_type": "display_data"
    }
   ],
   "source": [
    "plt.savefig('../figs/temperature_dists.png')"
   ]
  },
  {
   "cell_type": "code",
   "execution_count": 12,
   "id": "d6bd06c0-11ff-402d-bcaf-c1e218997caf",
   "metadata": {},
   "outputs": [],
   "source": [
    "summary.to_csv('../data/weather_stats.csv')"
   ]
  },
  {
   "cell_type": "code",
   "execution_count": null,
   "id": "79adfb56-af0c-4697-96f1-e53b2cf319f8",
   "metadata": {},
   "outputs": [],
   "source": []
  }
 ],
 "metadata": {
  "kernelspec": {
   "display_name": "Python 3 (ipykernel)",
   "language": "python",
   "name": "python3"
  },
  "language_info": {
   "codemirror_mode": {
    "name": "ipython",
    "version": 3
   },
   "file_extension": ".py",
   "mimetype": "text/x-python",
   "name": "python",
   "nbconvert_exporter": "python",
   "pygments_lexer": "ipython3",
   "version": "3.12.1"
  }
 },
 "nbformat": 4,
 "nbformat_minor": 5
}
